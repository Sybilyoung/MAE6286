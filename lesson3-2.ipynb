{
 "cells": [
  {
   "cell_type": "code",
   "execution_count": 11,
   "metadata": {},
   "outputs": [],
   "source": [
    "import numpy\n",
    "from matplotlib import pyplot\n",
    "import ipywidgets as ipyw\n",
    "%matplotlib inline"
   ]
  },
  {
   "cell_type": "code",
   "execution_count": 12,
   "metadata": {},
   "outputs": [],
   "source": [
    "# Set the font family and size to use for Matplotlib figures.\n",
    "pyplot.rcParams['font.family'] = 'serif'\n",
    "pyplot.rcParams['font.size'] = 16"
   ]
  },
  {
   "cell_type": "code",
   "execution_count": 13,
   "metadata": {},
   "outputs": [],
   "source": [
    "def rho_red_light(x,rho_max):\n",
    "    rho = numpy.full_like(x,rho_max)\n",
    "    #rho = rho_max * numpy.ones_like(x)\n",
    "    mask = numpy.where(x < 3.0)\n",
    "    rho[mask] /= 2 \n",
    "    #rho[mask] = 0.5 * rho_max\n",
    "    return rho"
   ]
  },
  {
   "cell_type": "code",
   "execution_count": 14,
   "metadata": {},
   "outputs": [],
   "source": [
    "# Set parameters.\n",
    "nx = 81  # number of locations on the road\n",
    "L = 4.0  # length of the road\n",
    "dx = L / (nx - 1)  # distance between two consecutive locations\n",
    "nt = 40  # number of time steps to compute\n",
    "rho_max = 10.0  # maximum taffic density allowed\n",
    "u_max = 1.0  # maximum speed traffic\n",
    "\n",
    "# Get the road locations.\n",
    "x = numpy.linspace(0.0, L, num=nx)\n",
    "\n",
    "# Compute the initial traffic density.\n",
    "rho0 = rho_red_light(x, rho_max)\n"
   ]
  },
  {
   "cell_type": "code",
   "execution_count": 15,
   "metadata": {},
   "outputs": [],
   "source": [
    "def plot(n,x,rho_hist):\n",
    "\n",
    "    pyplot.figure()\n",
    "    pyplot.title('Time Step:{}'.format(n))\n",
    "    pyplot.xlabel('road')\n",
    "    pyplot.ylabel('density')\n",
    "    pyplot.grid()\n",
    "    #pyplot.plot(x, rho_hist[0],label='initial')\n",
    "    pyplot.plot(x, rho_hist[n],label='current')\n",
    "    pyplot.xlim(x[0],x[-1])\n",
    "    pyplot.ylim(4.0,11.0)\n",
    "    #pyplot.legend(loc='upper right')\n",
    "    \n",
    "    pyplot.show()"
   ]
  },
  {
   "cell_type": "code",
   "execution_count": 16,
   "metadata": {},
   "outputs": [
    {
     "data": {
      "image/png": "[encoded data removed]",
      "text/plain": [
       "<Figure size 432x288 with 1 Axes>"
      ]
     },
     "metadata": {
      "needs_background": "light"
     },
     "output_type": "display_data"
    }
   ],
   "source": [
    "plot(0,x,[rho0])"
   ]
  },
  {
   "cell_type": "code",
   "execution_count": 17,
   "metadata": {},
   "outputs": [],
   "source": [
    "def traffic_speed(rho,u_max,rho_max):\n",
    "    return u_max*(1-rho/rho_max)\n",
    "def traffic_flux(rho,u_max,rho_max):\n",
    "    return rho * traffic_speed(rho,u_max,rho_max)"
   ]
  },
  {
   "cell_type": "code",
   "execution_count": 18,
   "metadata": {},
   "outputs": [],
   "source": [
    "def interactive_plot(x,rho_hist):\n",
    "    nt = len(rho_hist) - 1\n",
    "    nt_slider = ipyw.IntSlider(value=0,min=0,max=nt,step=1,description='time step')\n",
    "    \n",
    "    w = ipyw.interactive(plot, n=nt_slider,\n",
    "                         x=ipyw.fixed(x),\n",
    "                         rho_hist=ipyw.fixed(rho_hist))\n",
    "    return w"
   ]
  },
  {
   "cell_type": "code",
   "execution_count": 19,
   "metadata": {},
   "outputs": [
    {
     "data": {
      "application/vnd.jupyter.widget-view+json": {
       "model_id": "6951afcaae5744af88ae0ac0aa237a76",
       "version_major": 2,
       "version_minor": 0
      },
      "text/plain": [
       "interactive(children=(IntSlider(value=0, description='time step', max=0), Output()), _dom_classes=('widget-int…"
      ]
     },
     "metadata": {},
     "output_type": "display_data"
    }
   ],
   "source": [
    "interactive_plot(x,[rho0])"
   ]
  },
  {
   "cell_type": "code",
   "execution_count": 40,
   "metadata": {},
   "outputs": [],
   "source": [
    "def lax_friedrichs(rho0,nt,dt,dx,u_max,rho_max):\n",
    "    rho_hist=[rho0.copy()]\n",
    "    rho = rho0.copy()\n",
    "    nx=len(rho0)\n",
    "    nx=rho0.size\n",
    "    for n in range(nt):\n",
    "        F=traffic_flux(rho,u_max,rho_max)\n",
    "        rho[1:-1] = (0.5 * (rho[:-2] + rho[2:]) -\n",
    "                     dt / (2.0 * dx) * (F[2:] - F[:-2]))\n",
    "        #for i in range(1,nx-1):\n",
    "            #rho(i)=(0.5 * (rho[i-1] + rho[i+1) -\n",
    "                     #dt / (2.0 * dx) * (F[i+1] - F[I-1]))\n",
    "        rho_hist.append(rho.copy())\n",
    "    return rho_hist"
   ]
  },
  {
   "cell_type": "code",
   "execution_count": 45,
   "metadata": {},
   "outputs": [],
   "source": [
    "sigma = 1.0\n",
    "dt = sigma * dx / u_max  # time-step size\n",
    "rho_hist=lax_friedrichs(rho0,nt,dt,dx,u_max,rho_max)"
   ]
  },
  {
   "cell_type": "code",
   "execution_count": 46,
   "metadata": {},
   "outputs": [
    {
     "data": {
      "application/vnd.jupyter.widget-view+json": {
       "model_id": "5dc4b842bb224f1faae5fc8fbdfcb7b8",
       "version_major": 2,
       "version_minor": 0
      },
      "text/plain": [
       "interactive(children=(IntSlider(value=0, description='time step', max=40), Output()), _dom_classes=('widget-in…"
      ]
     },
     "metadata": {},
     "output_type": "display_data"
    }
   ],
   "source": [
    "interactive_plot(x,rho_hist)"
   ]
  },
  {
   "cell_type": "code",
   "execution_count": 47,
   "metadata": {},
   "outputs": [
    {
     "data": {
      "application/vnd.jupyter.widget-view+json": {
       "model_id": "31dbb1925d514d5d8765c900c84c1751",
       "version_major": 2,
       "version_minor": 0
      },
      "text/plain": [
       "interactive(children=(IntSlider(value=0, description='time step', max=80), Output()), _dom_classes=('widget-in…"
      ]
     },
     "metadata": {},
     "output_type": "display_data"
    }
   ],
   "source": [
    "sigma = 0.5\n",
    "dt = sigma * dx / u_max  # time-step size\n",
    "nt=80\n",
    "rho_hist=lax_friedrichs(rho0,nt,dt,dx,u_max,rho_max)\n",
    "interactive_plot(x,rho_hist)"
   ]
  },
  {
   "cell_type": "code",
   "execution_count": 52,
   "metadata": {},
   "outputs": [],
   "source": [
    "def traffic_jacobian(rho, u_max, rho_max):\n",
    "    J = u_max * (1.0 - 2.0 * rho / rho_max)\n",
    "    return J\n",
    "\n",
    "def lax_wendroff(rho0,nt,dt,dx,u_max,rho_max):\n",
    "    rho_hist=[rho0.copy()]\n",
    "    rho = rho0.copy()\n",
    "    nx=len(rho0)\n",
    "    nx=rho0.size\n",
    "    for n in range(nt):\n",
    "        F=traffic_flux(rho,u_max,rho_max)\n",
    "        J=traffic_jacobian(rho,u_max,rho_max)\n",
    "        rho[1:-1] = (rho[1:-1] -\n",
    "                     dt / (2.0 * dx) * (F[2:] - F[:-2]) +\n",
    "                     dt**2 / (4.0 * dx**2) *\n",
    "                     ((J[1:-1] + J[2:]) * (F[2:] - F[1:-1]) -\n",
    "                      (J[:-2] + J[1:-1]) * (F[1:-1] - F[:-2])))\n",
    "        #for i in range(1,nx-1):\n",
    "            #rho(i)=(0.5 * (rho[i-1] + rho[i+1) -\n",
    "                     #dt / (2.0 * dx) * (F[i+1] - F[I-1]))\n",
    "        rho_hist.append(rho.copy())\n",
    "    return rho_hist"
   ]
  },
  {
   "cell_type": "code",
   "execution_count": 58,
   "metadata": {},
   "outputs": [
    {
     "data": {
      "application/vnd.jupyter.widget-view+json": {
       "model_id": "d4073677f0754967a5f36065fc0fcbed",
       "version_major": 2,
       "version_minor": 0
      },
      "text/plain": [
       "interactive(children=(IntSlider(value=0, description='time step', max=80), Output()), _dom_classes=('widget-in…"
      ]
     },
     "metadata": {},
     "output_type": "display_data"
    }
   ],
   "source": [
    "sigma = 0.5\n",
    "dt = sigma * dx / u_max  # time-step size\n",
    "nt=80\n",
    "rho_hist=lax_wendroff(rho0,nt,dt,dx,u_max,rho_max)\n",
    "interactive_plot(x,rho_hist)"
   ]
  },
  {
   "cell_type": "code",
   "execution_count": null,
   "metadata": {},
   "outputs": [],
   "source": []
  }
 ],
 "metadata": {
  "kernelspec": {
   "display_name": "Python 3",
   "language": "python",
   "name": "python3"
  },
  "language_info": {
   "codemirror_mode": {
    "name": "ipython",
    "version": 3
   },
   "file_extension": ".py",
   "mimetype": "text/x-python",
   "name": "python",
   "nbconvert_exporter": "python",
   "pygments_lexer": "ipython3",
   "version": "3.7.3"
  }
 },
 "nbformat": 4,
 "nbformat_minor": 2
}
