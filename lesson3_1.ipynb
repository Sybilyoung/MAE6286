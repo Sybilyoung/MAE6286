{
 "cells": [
  {
   "cell_type": "code",
   "execution_count": 1,
   "metadata": {},
   "outputs": [],
   "source": [
    "import numpy\n",
    "from matplotlib import pyplot\n",
    "%matplotlib inline"
   ]
  },
  {
   "cell_type": "code",
   "execution_count": 131,
   "metadata": {},
   "outputs": [],
   "source": [
    "# Set parameters.\n",
    "nx = 81  # number of locations on the road\n",
    "L = 4.0  # length of the road\n",
    "dx = L / (nx - 1)  # distance between two consecutive locations\n",
    "sigma=1.0\n",
    "\n",
    "nt = 30  # number of time step to compute\n",
    "v_max = 1.0  # maximum speed allowed on the road\n",
    "dt=sigma * dx / v_max\n",
    "rho_max = 10.0  # maximum car density allowed on the road\n",
    "rho_light = 4.0  # car density at the stoplight\n",
    "\n",
    "# Discretize the road.\n",
    "x = numpy.linspace(0.0, L, num=nx)\n"
   ]
  },
  {
   "cell_type": "code",
   "execution_count": 133,
   "metadata": {},
   "outputs": [],
   "source": [
    "def ic(x,rho_light,x_light=2.0):\n",
    "    rho_i = numpy.zeros_like(x)\n",
    "    mask = numpy.where(x <= 2.0)\n",
    "    rho_i[mask] = rho_light * x[mask] / 2.0\n",
    "    return rho_i"
   ]
  },
  {
   "cell_type": "code",
   "execution_count": 134,
   "metadata": {},
   "outputs": [],
   "source": [
    "rho_0 = ic(x,rho_light)\n"
   ]
  },
  {
   "cell_type": "code",
   "execution_count": 135,
   "metadata": {},
   "outputs": [],
   "source": [
    "def velocity(rho,rho_max=10.0,v_max=1.0):\n",
    "    velocity = v_max * (1.0 - rho/rho_max)\n",
    "    return velocity"
   ]
  },
  {
   "cell_type": "code",
   "execution_count": 136,
   "metadata": {},
   "outputs": [],
   "source": [
    "def flux(rho,rho_max=10.0,v_max=1.0):\n",
    "    flux = rho * v_max * (1.0 - rho/rho_max)\n",
    "    return flux"
   ]
  },
  {
   "cell_type": "code",
   "execution_count": null,
   "metadata": {},
   "outputs": [],
   "source": []
  },
  {
   "cell_type": "code",
   "execution_count": 137,
   "metadata": {},
   "outputs": [],
   "source": [
    "def ftbs(rho_0,dt,dx,times):\n",
    "    rho_hist=[rho_0.copy()]\n",
    "    rho = rho_0.copy()\n",
    "    for n in range(times):\n",
    "        f=flux(rho)\n",
    "        rho[1:] = rho[1:] - dt / dx * (f[1:] - f[:-1])\n",
    "        #rho[0]=rho[-1]=0\n",
    "        rho_hist.append(rho.copy())\n",
    "        \n",
    "    return rho_hist"
   ]
  },
  {
   "cell_type": "code",
   "execution_count": 138,
   "metadata": {},
   "outputs": [],
   "source": [
    "rho_hist=ftbs(rho_0,dt,dx,nt)"
   ]
  },
  {
   "cell_type": "code",
   "execution_count": 141,
   "metadata": {},
   "outputs": [],
   "source": [
    "def plot_solution(n,rho_hist,x):\n",
    "\n",
    "    pyplot.figure()\n",
    "    pyplot.title('Time Step:{}'.format(n))\n",
    "    pyplot.xlabel('road')\n",
    "    pyplot.ylabel('density')\n",
    "    pyplot.grid()\n",
    "    pyplot.plot(x, rho_hist[0],label='initial')\n",
    "    pyplot.plot(x, rho_hist[n],label='current')\n",
    "    pyplot.xlim(x[0],x[-1])\n",
    "    pyplot.ylim(-0.5,11.0)\n",
    "    pyplot.legend(loc='upper right')\n",
    "    \n",
    "    pyplot.show()"
   ]
  },
  {
   "cell_type": "code",
   "execution_count": 142,
   "metadata": {},
   "outputs": [
    {
     "data": {
      "image/png": "[encoded data removed]",
      "text/plain": [
       "<Figure size 432x288 with 1 Axes>"
      ]
     },
     "metadata": {
      "needs_background": "light"
     },
     "output_type": "display_data"
    }
   ],
   "source": [
    "plot_solution(30,rho_hist,x)"
   ]
  },
  {
   "cell_type": "code",
   "execution_count": 118,
   "metadata": {},
   "outputs": [],
   "source": [
    "import ipywidgets as ipyw"
   ]
  },
  {
   "cell_type": "code",
   "execution_count": 119,
   "metadata": {},
   "outputs": [],
   "source": [
    "def interactive_plot(x,rho_hist):\n",
    "    nt = len(rho_hist) - 1\n",
    "    nt_slider = ipyw.IntSlider(value=0,min=0,max=nt,step=1,description='time step')\n",
    "    \n",
    "    w = ipyw.interactive(plot_solution, n=nt_slider,\n",
    "                         x=ipyw.fixed(x),\n",
    "                         rho_hist=ipyw.fixed(rho_hist))\n",
    "    return w"
   ]
  },
  {
   "cell_type": "code",
   "execution_count": 120,
   "metadata": {},
   "outputs": [
    {
     "data": {
      "application/vnd.jupyter.widget-view+json": {
       "model_id": "28a9203b036347c3a7a01a96ec6b7d95",
       "version_major": 2,
       "version_minor": 0
      },
      "text/plain": [
       "interactive(children=(IntSlider(value=0, description='time step', max=30), Output()), _dom_classes=('widget-in…"
      ]
     },
     "metadata": {},
     "output_type": "display_data"
    }
   ],
   "source": [
    "interactive_plot(x,rho_hist)"
   ]
  },
  {
   "cell_type": "code",
   "execution_count": null,
   "metadata": {},
   "outputs": [],
   "source": []
  }
 ],
 "metadata": {
  "kernelspec": {
   "display_name": "Python 3",
   "language": "python",
   "name": "python3"
  },
  "language_info": {
   "codemirror_mode": {
    "name": "ipython",
    "version": 3
   },
   "file_extension": ".py",
   "mimetype": "text/x-python",
   "name": "python",
   "nbconvert_exporter": "python",
   "pygments_lexer": "ipython3",
   "version": "3.7.3"
  }
 },
 "nbformat": 4,
 "nbformat_minor": 2
}
