{
 "cells": [
  {
   "cell_type": "code",
   "execution_count": 2,
   "metadata": {},
   "outputs": [],
   "source": [
    "import numpy\n",
    "import sympy\n",
    "from matplotlib import pyplot\n",
    "import ipywidgets as ipyw\n",
    "%matplotlib inline\n",
    "\n",
    "\n",
    "\n"
   ]
  },
  {
   "cell_type": "code",
   "execution_count": 3,
   "metadata": {},
   "outputs": [],
   "source": [
    "sympy.init_printing()\n",
    "u_max=sympy.symbols('u_max')\n",
    "u_star=sympy.symbols('u_star')\n",
    "rho_max=sympy.symbols('rho_max')\n",
    "rho_star=sympy.symbols('rho_star')\n",
    "A,B=sympy.symbols('A B')"
   ]
  },
  {
   "cell_type": "code",
   "execution_count": 4,
   "metadata": {},
   "outputs": [
    {
     "data": {
      "image/png": "[encoded data removed]",
      "text/latex": [
       "$$u_{max}$$"
      ],
      "text/plain": [
       "uₘₐₓ"
      ]
     },
     "execution_count": 4,
     "metadata": {},
     "output_type": "execute_result"
    }
   ],
   "source": [
    "u_max"
   ]
  },
  {
   "cell_type": "code",
   "execution_count": 7,
   "metadata": {},
   "outputs": [
    {
     "data": {
      "image/png": "[encoded data removed]",
      "text/latex": [
       "$$A + u_{max} + u_{star}$$"
      ],
      "text/plain": [
       "A + uₘₐₓ + uₛₜₐᵣ"
      ]
     },
     "execution_count": 7,
     "metadata": {},
     "output_type": "execute_result"
    }
   ],
   "source": [
    "u_max+u_star+A"
   ]
  },
  {
   "cell_type": "code",
   "execution_count": 9,
   "metadata": {},
   "outputs": [
    {
     "data": {
      "image/png": "[encoded data removed]",
      "text/latex": [
       "$$0 = \\rho_{max} u_{max} \\left(- A \\rho_{max} - B \\rho_{max}^{2} + 1\\right)$$"
      ],
      "text/plain": [
       "              ⎛                2    ⎞\n",
       "0 = ρₘₐₓ⋅uₘₐₓ⋅⎝-A⋅ρₘₐₓ - B⋅ρₘₐₓ  + 1⎠"
      ]
     },
     "execution_count": 9,
     "metadata": {},
     "output_type": "execute_result"
    }
   ],
   "source": [
    "#no traffic flux at max density\n",
    "eq1 = sympy.Eq(0, u_max * rho_max * (1 - A * rho_max - B * rho_max**2))\n",
    "eq1\n"
   ]
  },
  {
   "cell_type": "code",
   "execution_count": 10,
   "metadata": {},
   "outputs": [
    {
     "data": {
      "image/png": "[encoded data removed]",
      "text/latex": [
       "$$0 = u_{max} \\left(- 2 A \\rho_{star} - 3 B \\rho_{star}^{2} + 1\\right)$$"
      ],
      "text/plain": [
       "         ⎛                      2    ⎞\n",
       "0 = uₘₐₓ⋅⎝-2⋅A⋅ρₛₜₐᵣ - 3⋅B⋅ρₛₜₐᵣ  + 1⎠"
      ]
     },
     "execution_count": 10,
     "metadata": {},
     "output_type": "execute_result"
    }
   ],
   "source": [
    "#max flux when rho = rho_star\n",
    "eq2 = sympy.Eq(0, u_max * (1 - 2 * A * rho_star - 3 * B * rho_star**2))\n",
    "eq2"
   ]
  },
  {
   "cell_type": "code",
   "execution_count": 11,
   "metadata": {},
   "outputs": [
    {
     "data": {
      "image/png": "[encoded data removed]",
      "text/latex": [
       "$$u_{star} = u_{max} \\left(- A \\rho_{star} - B \\rho_{star}^{2} + 1\\right)$$"
      ],
      "text/plain": [
       "             ⎛                  2    ⎞\n",
       "uₛₜₐᵣ = uₘₐₓ⋅⎝-A⋅ρₛₜₐᵣ - B⋅ρₛₜₐᵣ  + 1⎠"
      ]
     },
     "execution_count": 11,
     "metadata": {},
     "output_type": "execute_result"
    }
   ],
   "source": [
    "#velocity u_star when rho = rho_star\n",
    "eq3 = sympy.Eq(u_star, u_max * (1 - A * rho_star - B * rho_star**2))\n",
    "eq3"
   ]
  },
  {
   "cell_type": "code",
   "execution_count": 12,
   "metadata": {},
   "outputs": [
    {
     "data": {
      "image/png": "[encoded data removed]",
      "text/latex": [
       "$$\\left(0 = u_{max} \\left(- 2 A \\rho_{star} - 3 B \\rho_{star}^{2} + 1\\right)\\right) - 3 \\left(u_{star} = u_{max} \\left(- A \\rho_{star} - B \\rho_{star}^{2} + 1\\right)\\right)$$"
      ],
      "text/plain": [
       "⎛         ⎛                      2    ⎞⎞     ⎛             ⎛                  \n",
       "⎝0 = uₘₐₓ⋅⎝-2⋅A⋅ρₛₜₐᵣ - 3⋅B⋅ρₛₜₐᵣ  + 1⎠⎠ - 3⋅⎝uₛₜₐᵣ = uₘₐₓ⋅⎝-A⋅ρₛₜₐᵣ - B⋅ρₛₜₐᵣ\n",
       "\n",
       "2    ⎞⎞\n",
       "  + 1⎠⎠"
      ]
     },
     "execution_count": 12,
     "metadata": {},
     "output_type": "execute_result"
    }
   ],
   "source": [
    "eq2 - 3 * eq3"
   ]
  },
  {
   "cell_type": "code",
   "execution_count": 13,
   "metadata": {},
   "outputs": [
    {
     "data": {
      "image/png": "[encoded data removed]",
      "text/latex": [
       "$$- 3 u_{star} = u_{max} \\left(- 2 A \\rho_{star} - 3 B \\rho_{star}^{2} + 1\\right) - 3 u_{max} \\left(- A \\rho_{star} - B \\rho_{star}^{2} + 1\\right)$$"
      ],
      "text/plain": [
       "                ⎛                      2    ⎞          ⎛                  2   \n",
       "-3⋅uₛₜₐᵣ = uₘₐₓ⋅⎝-2⋅A⋅ρₛₜₐᵣ - 3⋅B⋅ρₛₜₐᵣ  + 1⎠ - 3⋅uₘₐₓ⋅⎝-A⋅ρₛₜₐᵣ - B⋅ρₛₜₐᵣ  + \n",
       "\n",
       " ⎞\n",
       "1⎠"
      ]
     },
     "execution_count": 13,
     "metadata": {},
     "output_type": "execute_result"
    }
   ],
   "source": [
    "eq4 = sympy.Eq(eq2.lhs - 3 * eq3.lhs, eq2.rhs - 3 * eq3.rhs)\n",
    "eq4"
   ]
  },
  {
   "cell_type": "code",
   "execution_count": 14,
   "metadata": {},
   "outputs": [
    {
     "data": {
      "image/png": "[encoded data removed]",
      "text/latex": [
       "$$- 3 u_{star} = u_{max} \\left(A \\rho_{star} - 2\\right)$$"
      ],
      "text/plain": [
       "-3⋅uₛₜₐᵣ = uₘₐₓ⋅(A⋅ρₛₜₐᵣ - 2)"
      ]
     },
     "execution_count": 14,
     "metadata": {},
     "output_type": "execute_result"
    }
   ],
   "source": [
    "eq4.simplify()"
   ]
  },
  {
   "cell_type": "code",
   "execution_count": 15,
   "metadata": {},
   "outputs": [
    {
     "data": {
      "image/png": "[encoded data removed]",
      "text/latex": [
       "$$- 3 u_{star} = A \\rho_{star} u_{max} - 2 u_{max}$$"
      ],
      "text/plain": [
       "-3⋅uₛₜₐᵣ = A⋅ρₛₜₐᵣ⋅uₘₐₓ - 2⋅uₘₐₓ"
      ]
     },
     "execution_count": 15,
     "metadata": {},
     "output_type": "execute_result"
    }
   ],
   "source": [
    "eq4.expand()"
   ]
  },
  {
   "cell_type": "code",
   "execution_count": 21,
   "metadata": {},
   "outputs": [
    {
     "data": {
      "image/png": "[encoded data removed]",
      "text/latex": [
       "$$\\frac{2 u_{max} - 3 u_{star}}{A u_{max}}$$"
      ],
      "text/plain": [
       "2⋅uₘₐₓ - 3⋅uₛₜₐᵣ\n",
       "────────────────\n",
       "     A⋅uₘₐₓ     "
      ]
     },
     "execution_count": 21,
     "metadata": {},
     "output_type": "execute_result"
    }
   ],
   "source": [
    "rho_star_sol = sympy.solve(eq4, rho_star)[0]\n",
    "rho_star_sol"
   ]
  },
  {
   "cell_type": "code",
   "execution_count": 22,
   "metadata": {},
   "outputs": [
    {
     "data": {
      "text/plain": [
       "sympy.core.mul.Mul"
      ]
     },
     "execution_count": 22,
     "metadata": {},
     "output_type": "execute_result"
    }
   ],
   "source": [
    "type(rho_star_sol)"
   ]
  },
  {
   "cell_type": "code",
   "execution_count": 23,
   "metadata": {},
   "outputs": [
    {
     "data": {
      "image/png": "[encoded data removed]",
      "text/latex": [
       "$$\\frac{- A \\rho_{max} + 1}{\\rho_{max}^{2}}$$"
      ],
      "text/plain": [
       "-A⋅ρₘₐₓ + 1\n",
       "───────────\n",
       "       2   \n",
       "   ρₘₐₓ    "
      ]
     },
     "execution_count": 23,
     "metadata": {},
     "output_type": "execute_result"
    }
   ],
   "source": [
    "B_sol = sympy.solve(eq1, B)[0]\n",
    "B_sol"
   ]
  },
  {
   "cell_type": "code",
   "execution_count": 24,
   "metadata": {},
   "outputs": [
    {
     "data": {
      "image/png": "[encoded data removed]",
      "text/latex": [
       "$$0 = u_{max} \\left(1 - \\frac{2 \\left(2 u_{max} - 3 u_{star}\\right)}{u_{max}} - \\frac{3 \\left(2 u_{max} - 3 u_{star}\\right)^{2} \\left(- A \\rho_{max} + 1\\right)}{A^{2} \\rho_{max}^{2} u_{max}^{2}}\\right)$$"
      ],
      "text/plain": [
       "         ⎛                                               2              ⎞\n",
       "         ⎜    2⋅(2⋅uₘₐₓ - 3⋅uₛₜₐᵣ)   3⋅(2⋅uₘₐₓ - 3⋅uₛₜₐᵣ) ⋅(-A⋅ρₘₐₓ + 1)⎟\n",
       "0 = uₘₐₓ⋅⎜1 - ──────────────────── - ───────────────────────────────────⎟\n",
       "         ⎜            uₘₐₓ                       2     2     2          ⎟\n",
       "         ⎝                                      A ⋅ρₘₐₓ ⋅uₘₐₓ           ⎠"
      ]
     },
     "execution_count": 24,
     "metadata": {},
     "output_type": "execute_result"
    }
   ],
   "source": [
    "eq5 = eq2.subs([(rho_star, rho_star_sol), (B, B_sol)])\n",
    "eq5"
   ]
  },
  {
   "cell_type": "code",
   "execution_count": 26,
   "metadata": {},
   "outputs": [
    {
     "data": {
      "image/png": "[encoded data removed]",
      "text/latex": [
       "$$- 3 u_{max} + 6 u_{star} + \\frac{3 \\left(2 u_{max} - 3 u_{star}\\right)^{2}}{A \\rho_{max} u_{max}} - \\frac{3 \\left(2 u_{max} - 3 u_{star}\\right)^{2}}{A^{2} \\rho_{max}^{2} u_{max}} = 0$$"
      ],
      "text/plain": [
       "                                        2                       2    \n",
       "                    3⋅(2⋅uₘₐₓ - 3⋅uₛₜₐᵣ)    3⋅(2⋅uₘₐₓ - 3⋅uₛₜₐᵣ)     \n",
       "-3⋅uₘₐₓ + 6⋅uₛₜₐᵣ + ───────────────────── - ───────────────────── = 0\n",
       "                         A⋅ρₘₐₓ⋅uₘₐₓ             2     2             \n",
       "                                                A ⋅ρₘₐₓ ⋅uₘₐₓ        "
      ]
     },
     "execution_count": 26,
     "metadata": {},
     "output_type": "execute_result"
    }
   ],
   "source": [
    "eq5.simplify()"
   ]
  },
  {
   "cell_type": "code",
   "execution_count": 29,
   "metadata": {},
   "outputs": [
    {
     "data": {
      "image/png": "[encoded data removed]",
      "text/latex": [
       "$$\\left [ \\frac{\\sqrt{- u_{star} \\left(4 u_{max} - 9 u_{star}\\right)} \\left(- 2 u_{max} + 3 u_{star}\\right) + \\left(2 u_{max} - 3 u_{star}\\right)^{2}}{2 \\rho_{max} u_{max} \\left(u_{max} - 2 u_{star}\\right)}, \\quad \\frac{\\left(2 u_{max} - 3 u_{star}\\right) \\left(2 u_{max} - 3 u_{star} + \\sqrt{- u_{star} \\left(4 u_{max} - 9 u_{star}\\right)}\\right)}{2 \\rho_{max} u_{max} \\left(u_{max} - 2 u_{star}\\right)}\\right ]$$"
      ],
      "text/plain": [
       "⎡  ___________________________                                         2      \n",
       "⎢╲╱ -uₛₜₐᵣ⋅(4⋅uₘₐₓ - 9⋅uₛₜₐᵣ) ⋅(-2⋅uₘₐₓ + 3⋅uₛₜₐᵣ) + (2⋅uₘₐₓ - 3⋅uₛₜₐᵣ)   (2⋅u\n",
       "⎢───────────────────────────────────────────────────────────────────────, ────\n",
       "⎣                      2⋅ρₘₐₓ⋅uₘₐₓ⋅(uₘₐₓ - 2⋅uₛₜₐᵣ)                           \n",
       "\n",
       "               ⎛                     ___________________________⎞⎤\n",
       "ₘₐₓ - 3⋅uₛₜₐᵣ)⋅⎝2⋅uₘₐₓ - 3⋅uₛₜₐᵣ + ╲╱ -uₛₜₐᵣ⋅(4⋅uₘₐₓ - 9⋅uₛₜₐᵣ) ⎠⎥\n",
       "─────────────────────────────────────────────────────────────────⎥\n",
       "                 2⋅ρₘₐₓ⋅uₘₐₓ⋅(uₘₐₓ - 2⋅uₛₜₐᵣ)                    ⎦"
      ]
     },
     "execution_count": 29,
     "metadata": {},
     "output_type": "execute_result"
    }
   ],
   "source": [
    "A_sol = sympy.solve(eq5, A)\n",
    "A_sol"
   ]
  },
  {
   "cell_type": "code",
   "execution_count": 33,
   "metadata": {},
   "outputs": [
    {
     "data": {
      "image/png": "[encoded data removed]",
      "text/latex": [
       "$$0.0146107219255619$$"
      ],
      "text/plain": [
       "0.0146107219255619"
      ]
     },
     "execution_count": 33,
     "metadata": {},
     "output_type": "execute_result"
    }
   ],
   "source": [
    "A_val_0 = A_sol[0].evalf(subs={u_star: 0.7, u_max: 1.0, rho_max: 10.0})\n",
    "A_val_1 = A_sol[1].evalf(subs={u_star: 0.7, u_max: 1.0, rho_max: 10.0})\n",
    "A_val = max(A_val_0, A_val_1)\n",
    "A_val"
   ]
  },
  {
   "cell_type": "code",
   "execution_count": 34,
   "metadata": {},
   "outputs": [
    {
     "data": {
      "image/png": "[encoded data removed]",
      "text/latex": [
       "$$0.00853892780744381$$"
      ],
      "text/plain": [
       "0.00853892780744381"
      ]
     },
     "execution_count": 34,
     "metadata": {},
     "output_type": "execute_result"
    }
   ],
   "source": [
    "B_val = B_sol.evalf(subs={rho_max: 10.0, A: A_val})\n",
    "B_val"
   ]
  },
  {
   "cell_type": "code",
   "execution_count": 35,
   "metadata": {},
   "outputs": [],
   "source": [
    "def cubic_flux(rho,u_max,A,B):\n",
    "    F = rho * u_max * (1.0 - A * rho - B * rho**2)\n",
    "    return F"
   ]
  },
  {
   "cell_type": "code",
   "execution_count": 61,
   "metadata": {},
   "outputs": [],
   "source": [
    "#define parameters\n",
    "rho_max = 10.0\n",
    "u_max = 1.0\n",
    "nx = 81  # number of locations on the road\n",
    "L = 4.0  # length of the road\n",
    "dx = L / (nx - 1)  # distance between two consecutive locations\n",
    "# Define the locations on the road.\n",
    "x = numpy.linspace(0.0, L, num=nx)\n"
   ]
  },
  {
   "cell_type": "code",
   "execution_count": 86,
   "metadata": {},
   "outputs": [],
   "source": [
    "rho0 = numpy.zeros_like(x)\n",
    "mask = numpy.where(x < 2.0)\n",
    "rho0[mask] = rho_max * x[mask] / 2.0\n"
   ]
  },
  {
   "cell_type": "code",
   "execution_count": 97,
   "metadata": {},
   "outputs": [],
   "source": [
    "def lax_friedrichs_2(rho0,nt,dt,dx,cubic_flux,*args):\n",
    "    rho_hist=[rho0.copy()]\n",
    "    rho = rho0.copy()\n",
    "    for n in range(nt):\n",
    "        F=cubic_flux(rho,*args)\n",
    "        rho[1:-1] = (0.5 * (rho[:-2] + rho[2:]) -\n",
    "                     dt / (2.0 * dx) * (F[2:] - F[:-2]))\n",
    "        #for i in range(1,nx-1):\n",
    "            #rho(i)=(0.5 * (rho[i-1] + rho[i+1) -\n",
    "                     #dt / (2.0 * dx) * (F[i+1] - F[I-1]))\n",
    "        rho[0] = bc_value\n",
    "        rho_hist.append(rho.copy())\n",
    "    return rho_hist"
   ]
  },
  {
   "cell_type": "code",
   "execution_count": 88,
   "metadata": {},
   "outputs": [],
   "source": [
    "def lax_friedrichs(rho0,nt,dt,dx,u_max,A,B):\n",
    "    rho_hist=[rho0.copy()]\n",
    "    rho = rho0.copy()\n",
    "    nx=len(rho0)\n",
    "    nx=rho0.size\n",
    "    for n in range(nt):\n",
    "        F=cubic_flux(rho,u_max,A,B)\n",
    "        rho[1:-1] = (0.5 * (rho[:-2] + rho[2:]) -\n",
    "                     dt / (2.0 * dx) * (F[2:] - F[:-2]))\n",
    "        #for i in range(1,nx-1):\n",
    "            #rho(i)=(0.5 * (rho[i-1] + rho[i+1) -\n",
    "                     #dt / (2.0 * dx) * (F[i+1] - F[I-1]))\n",
    "      \n",
    "        rho_hist.append(rho.copy())\n",
    "    return rho_hist"
   ]
  },
  {
   "cell_type": "code",
   "execution_count": 89,
   "metadata": {},
   "outputs": [],
   "source": [
    "def traffic_jacobian(rho, u_max, rho_max):\n",
    "    J = u_max * (1.0 - 2.0 * rho / rho_max)\n",
    "    return J\n",
    "\n",
    "def lax_wendroff(rho0,nt,dt,dx,u_max,A,B,rho_max):\n",
    "    rho_hist=[rho0.copy()]\n",
    "    rho = rho0.copy()\n",
    "    nx=len(rho0)\n",
    "    nx=rho0.size\n",
    "    for n in range(nt):\n",
    "        F=cubic_flux(rho,u_max,A,B)\n",
    "        J=traffic_jacobian(rho,u_max,rho_max)\n",
    "        rho[1:-1] = (rho[1:-1] -\n",
    "                     dt / (2.0 * dx) * (F[2:] - F[:-2]) +\n",
    "                     dt**2 / (4.0 * dx**2) *\n",
    "                     ((J[1:-1] + J[2:]) * (F[2:] - F[1:-1]) -\n",
    "                      (J[:-2] + J[1:-1]) * (F[1:-1] - F[:-2])))\n",
    "        #for i in range(1,nx-1):\n",
    "            #rho(i)=(0.5 * (rho[i-1] + rho[i+1) -\n",
    "                     #dt / (2.0 * dx) * (F[i+1] - F[I-1]))\n",
    "        \n",
    "        rho_hist.append(rho.copy())\n",
    "    return rho_hist"
   ]
  },
  {
   "cell_type": "code",
   "execution_count": 90,
   "metadata": {},
   "outputs": [],
   "source": [
    "def maccormack(rho0,nt,dt,dx,u_max,A,B):\n",
    "    rho_hist=[rho0.copy()]\n",
    "    rho = rho0.copy()\n",
    "    rho_star = rho.copy()\n",
    "    nx=len(rho0)\n",
    "    nx=rho0.size\n",
    "    for n in range(nt):\n",
    "        F=cubic_flux(rho,u_max,A,B)\n",
    "        rho_star[1:-1] = (rho[1:-1] -\n",
    "                          dt / dx * (F[2:] - F[1:-1]))\n",
    "        F=cubic_flux(rho_star,u_max,A,B)\n",
    "        rho[1:-1] = 0.5 * (rho[1:-1] + rho_star[1:-1] -\n",
    "                           dt / dx * (F[1:-1] - F[:-2]))\n",
    "            #rho(i)=(0.5 * (rho[i-1] + rho[i+1) -\n",
    "                     #dt / (2.0 * dx) * (F[i+1] - F[I-1]))\n",
    "        \n",
    "        rho_hist.append(rho.copy())\n",
    "    return rho_hist"
   ]
  },
  {
   "cell_type": "code",
   "execution_count": 91,
   "metadata": {},
   "outputs": [],
   "source": [
    "def ftbs(rho0,nt,dt,dx,u_max,A,B):\n",
    "    rho_hist=[rho0.copy()]\n",
    "    rho = rho0.copy()\n",
    "    for n in range(nt):\n",
    "        F=cubic_flux(rho,u_max,A,B)\n",
    "        rho[1:] = rho[1:] - dt / dx * (F[1:] - F[:-1])\n",
    "        #rho[0]=rho[-1]=0\n",
    "        \n",
    "        rho_hist.append(rho.copy())\n",
    "        \n",
    "    return rho_hist"
   ]
  },
  {
   "cell_type": "code",
   "execution_count": 92,
   "metadata": {},
   "outputs": [],
   "source": [
    "def plot(n,x,rho_hist):\n",
    "\n",
    "    pyplot.figure()\n",
    "    pyplot.title('Time Step:{}'.format(n))\n",
    "    pyplot.xlabel('road')\n",
    "    pyplot.ylabel('density')\n",
    "    pyplot.grid()\n",
    "    #pyplot.plot(x, rho_hist[0],label='initial')\n",
    "    pyplot.plot(x, rho_hist[n],label='current')\n",
    "    pyplot.xlim(x[0],x[-1])\n",
    "    pyplot.ylim(0.0,15.0)\n",
    "    #pyplot.legend(loc='upper right')\n",
    "    \n",
    "    pyplot.show()"
   ]
  },
  {
   "cell_type": "code",
   "execution_count": 93,
   "metadata": {},
   "outputs": [],
   "source": [
    "def interactive_plot(x,rho_hist):\n",
    "    nt = len(rho_hist) - 1\n",
    "    nt_slider = ipyw.IntSlider(value=0,min=0,max=nt,step=1,description='time step')\n",
    "    \n",
    "    w = ipyw.interactive(plot, n=nt_slider,\n",
    "                         x=ipyw.fixed(x),\n",
    "                         rho_hist=ipyw.fixed(rho_hist))\n",
    "    return w"
   ]
  },
  {
   "cell_type": "code",
   "execution_count": 96,
   "metadata": {},
   "outputs": [
    {
     "data": {
      "application/vnd.jupyter.widget-view+json": {
       "model_id": "9de8e2823d3c4d55b93f43e0803f5d82",
       "version_major": 2,
       "version_minor": 0
      },
      "text/plain": [
       "interactive(children=(IntSlider(value=0, description='time step', max=40), Output()), _dom_classes=('widget-in…"
      ]
     },
     "metadata": {},
     "output_type": "display_data"
    }
   ],
   "source": [
    "# Set time-step size based on CFL limit.\n",
    "sigma = 0.5\n",
    "\n",
    "dt = sigma * dx / u_max  # time-step size\n",
    "nt=40\n",
    "\n",
    "# Compute the traffic density at all time steps.\n",
    "rho_hist = lax_friedrichs(rho0, nt, dt, dx,u_max, A_val, B_val)\n",
    "interactive_plot(x,rho_hist)"
   ]
  },
  {
   "cell_type": "code",
   "execution_count": null,
   "metadata": {},
   "outputs": [],
   "source": []
  }
 ],
 "metadata": {
  "kernelspec": {
   "display_name": "Python 3",
   "language": "python",
   "name": "python3"
  },
  "language_info": {
   "codemirror_mode": {
    "name": "ipython",
    "version": 3
   },
   "file_extension": ".py",
   "mimetype": "text/x-python",
   "name": "python",
   "nbconvert_exporter": "python",
   "pygments_lexer": "ipython3",
   "version": "3.7.3"
  }
 },
 "nbformat": 4,
 "nbformat_minor": 2
}
