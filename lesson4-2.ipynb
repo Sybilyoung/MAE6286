{
 "cells": [
  {
   "cell_type": "code",
   "execution_count": 15,
   "metadata": {},
   "outputs": [],
   "source": [
    "import numpy\n",
    "from matplotlib import pyplot\n",
    "from scipy.sparse import coo_matrix\n",
    "%matplotlib inline"
   ]
  },
  {
   "cell_type": "code",
   "execution_count": 16,
   "metadata": {},
   "outputs": [],
   "source": [
    "# Set the font family and size to use for Matplotlib figures.\n",
    "pyplot.rcParams['font.family'] = 'serif'\n",
    "pyplot.rcParams['font.size'] = 16"
   ]
  },
  {
   "cell_type": "code",
   "execution_count": 65,
   "metadata": {},
   "outputs": [
    {
     "data": {
      "text/plain": [
       "array([0., 1., 2., 3., 4.])"
      ]
     },
     "execution_count": 65,
     "metadata": {},
     "output_type": "execute_result"
    }
   ],
   "source": [
    "# Set parameters.\n",
    "L = 1.0  # length of the rod\n",
    "nx = 51  # number of locations on the rod\n",
    "dx = L / (nx - 1)  # distance between two consecutive locations\n",
    "\n",
    "\n",
    "# Define the locations along the rod.\n",
    "x = numpy.linspace(0.0, L, num=nx)\n",
    "\n",
    "alpha = 1.22e-3  #  thermal diffusivity of the rod\n",
    "q = 0.0  # temperature gradient on the right side of the rod\n",
    "\n",
    "# Set the initial temperature along the rod.\n",
    "u0 = numpy.zeros(nx)\n",
    "u0[0] = 100.0\n",
    "N = 5\n",
    "test = numpy.linspace(0.0, 4, num=5)\n",
    "row1 = numpy.linspace(0.0, N-1, num=N)\n",
    "col1 = numpy.linspace(0.0, N-1, num=N)\n",
    "data01 = numpy.ones(N)\n",
    "data1 = data01 * (2.0 + 1.0 / sigma)\n",
    "data1[-1]= data1[1] = 1.0 + 1.0 / sigma\n",
    "D = coo_matrix((data1, (row1, col1)), shape=(N, N)).toarray()\n",
    "test\n",
    "#coo_matrix((data, (row, col)), shape=(4, 4)).toarray()"
   ]
  },
  {
   "cell_type": "code",
   "execution_count": 18,
   "metadata": {},
   "outputs": [],
   "source": [
    "nt = 1000\n",
    "sigma = 0.5\n",
    "dt = sigma *dx**2/alpha"
   ]
  },
  {
   "cell_type": "code",
   "execution_count": 27,
   "metadata": {},
   "outputs": [],
   "source": [
    "def btcs(u0,nt,dt,dx,alpha,q = 0.0):\n",
    "    u = u0.copy()\n",
    "    sigma = alpha * dt / dx**2\n",
    "    A = lhs_operator(u0.size - 2,sigma)\n",
    "    \n",
    "    for n in range(nt):\n",
    "        # Update RHS vector.\n",
    "        b = rhs_vector(u, sigma, q * dx)\n",
    "        # Solve system for interior points.\n",
    "        u[1:-1] = numpy.linalg.solve(A, b)\n",
    "        # Find value at right boundary.\n",
    "        u[-1] = u[-2] * q * dx\n",
    "    return u "
   ]
  },
  {
   "cell_type": "code",
   "execution_count": 28,
   "metadata": {},
   "outputs": [],
   "source": [
    "def lhs_operator(N, sigma):\n",
    "    # Setup the diagonal of the operator.\n",
    "    D = numpy.diag((2.0 + 1.0 / sigma) * numpy.ones(N))\n",
    "    # Setup the Neumann condition for the last element.\n",
    "    D[-1, -1] = 1.0 + 1.0 / sigma\n",
    "    # Setup the upper diagonal of the operator.\n",
    "    U = numpy.diag(-1.0 * numpy.ones(N - 1), k=1)\n",
    "    # Setup the lower diagonal of the operator.\n",
    "    L = numpy.diag(-1.0 * numpy.ones(N - 1), k=-1)\n",
    "    # Assemble the operator.\n",
    "    A = D + U + L\n",
    "  \n",
    "    return A"
   ]
  },
  {
   "cell_type": "code",
   "execution_count": 71,
   "metadata": {},
   "outputs": [],
   "source": [
    "def lhs_operator_sparse(N, sigma):\n",
    "    row1  = numpy.linspace(0.0, N-1, num=N)\n",
    "    col1  = numpy.linspace(0.0, N-1, num=N)\n",
    "    data01 = numpy.ones(N)\n",
    "    data1 = data01 * (2.0 + 1.0 / sigma)\n",
    "    data1[-1]= 1.0 + 1.0 / sigma\n",
    "    D = coo_matrix((data1, (row1, col1)), shape=(N, N)).toarray()\n",
    "    row2  = numpy.linspace(1.0, N-1, num=N-1)\n",
    "    col2  = numpy.linspace(0.0, N-2, num=N-1)\n",
    "    data02 = numpy.ones(N-1)\n",
    "    data2 = data02 * -1\n",
    "    U = coo_matrix((data2, (row2, col2)), shape=(N, N)).toarray()\n",
    "    row3  = numpy.linspace(0.0, N-2, num=N-1)\n",
    "    col3  = numpy.linspace(1.0, N-1, num=N-1)\n",
    "    data03 = numpy.ones(N-1)\n",
    "    data3 = data03 * -1\n",
    "    L = coo_matrix((data3, (row3, col3)), shape=(N, N)).toarray()\n",
    "    A = D + U + L\n",
    "    return A"
   ]
  },
  {
   "cell_type": "code",
   "execution_count": 72,
   "metadata": {},
   "outputs": [
    {
     "data": {
      "text/plain": [
       "array([[ 4., -1.,  0., ...,  0.,  0.,  0.],\n",
       "       [-1.,  4., -1., ...,  0.,  0.,  0.],\n",
       "       [ 0., -1.,  4., ...,  0.,  0.,  0.],\n",
       "       ...,\n",
       "       [ 0.,  0.,  0., ...,  4., -1.,  0.],\n",
       "       [ 0.,  0.,  0., ..., -1.,  4., -1.],\n",
       "       [ 0.,  0.,  0., ...,  0., -1.,  3.]])"
      ]
     },
     "execution_count": 72,
     "metadata": {},
     "output_type": "execute_result"
    }
   ],
   "source": [
    "A = lhs_operator(u0.size - 2,sigma)\n",
    "A = lhs_operator_sparse(u0.size - 2,sigma)\n",
    "A"
   ]
  },
  {
   "cell_type": "code",
   "execution_count": 30,
   "metadata": {},
   "outputs": [],
   "source": []
  },
  {
   "cell_type": "code",
   "execution_count": 31,
   "metadata": {},
   "outputs": [],
   "source": [
    "def rhs_vector(u, sigma, qdx):\n",
    "   \n",
    "    b = u[1:-1] / sigma\n",
    "    # Set Dirichlet condition.\n",
    "    b[0] += u[0]\n",
    "    # Set Neumann condition.\n",
    "    b[-1] += qdx\n",
    "    return b"
   ]
  },
  {
   "cell_type": "code",
   "execution_count": 32,
   "metadata": {},
   "outputs": [],
   "source": [
    "nt = 1000\n",
    "sigma = 0.5\n",
    "dt = sigma *dx**2/alpha\n"
   ]
  },
  {
   "cell_type": "code",
   "execution_count": 33,
   "metadata": {},
   "outputs": [],
   "source": [
    "u = btcs(u0,nt,dt,dx,alpha,q = 0.0)"
   ]
  },
  {
   "cell_type": "code",
   "execution_count": 34,
   "metadata": {},
   "outputs": [
    {
     "data": {
      "image/png": "[encoded data removed]",
      "text/plain": [
       "<Figure size 432x288 with 1 Axes>"
      ]
     },
     "metadata": {
      "needs_background": "light"
     },
     "output_type": "display_data"
    }
   ],
   "source": [
    "# Plot the temperature along the rod.\n",
    "pyplot.figure(figsize=(6.0, 4.0))\n",
    "pyplot.xlabel('Distance [m]')\n",
    "pyplot.ylabel('Temperature [C]')\n",
    "pyplot.grid()\n",
    "pyplot.plot(x, u, color='C0', linestyle='-', linewidth=2)\n",
    "pyplot.xlim(0.0, L)\n",
    "pyplot.ylim(0.0, 100.0);"
   ]
  },
  {
   "cell_type": "code",
   "execution_count": null,
   "metadata": {},
   "outputs": [],
   "source": []
  }
 ],
 "metadata": {
  "kernelspec": {
   "display_name": "Python 3",
   "language": "python",
   "name": "python3"
  },
  "language_info": {
   "codemirror_mode": {
    "name": "ipython",
    "version": 3
   },
   "file_extension": ".py",
   "mimetype": "text/x-python",
   "name": "python",
   "nbconvert_exporter": "python",
   "pygments_lexer": "ipython3",
   "version": "3.7.3"
  }
 },
 "nbformat": 4,
 "nbformat_minor": 2
}
