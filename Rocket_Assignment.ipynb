{
 "cells": [
  {
   "cell_type": "markdown",
   "metadata": {},
   "source": [
    "Before you turn in your homework, make sure everything runs as expected.\n",
    "\n",
    "Make sure you execute every single code cell, in order, filling with your solutions in any place that says `# YOUR CODE HERE`, and always DELETE the line that says:\n",
    "\n",
    "```python\n",
    "raise NotImplementedError()\n",
    "```\n",
    "\n",
    "The purpose of this line is to tell you if you forgot to answer a question (it will throw an error if the line is there)\n",
    "\n",
    "**IMPORTANT:**\n",
    "\n",
    "* **DO NOT DELETE ANY CELL** and do not change the title of the Notebook.\n",
    "\n",
    "* Use the same variable names as the ones written in the questions; otherwise, the tests will fail.\n",
    "\n",
    "* Before you turn in your homework, make sure everything runs as expected: restart the kernel (in the menubar, select Kernel $\\rightarrow$ Restart) and then run all cells (in the menubar, select Cell $\\rightarrow$ Run All).\n",
    "\n",
    "Fill your name below:"
   ]
  },
  {
   "cell_type": "code",
   "execution_count": null,
   "metadata": {},
   "outputs": [],
   "source": [
    "name = \"Jiawei Li\""
   ]
  },
  {
   "cell_type": "markdown",
   "metadata": {
    "deletable": false,
    "editable": false,
    "nbgrader": {
     "checksum": "6332d79584ded3ab7d5dceab9a112a6c",
     "grade": false,
     "grade_id": "rocket-introduction",
     "locked": true,
     "schema_version": 1,
     "solution": false
    }
   },
   "source": [
    "# Coding Assignment: Rocket\n",
    "\n",
    "The equations of motion for a rocket in purely vertical flight are given by\n",
    "\n",
    "$$\n",
    "\\begin{cases}\n",
    "\\frac{dh}{dt} = v\\\\\n",
    "(m_s+m_p) \\frac{dv}{dt} = -(m_s+m_p)g + \\dot{m}_pv_e - \\frac{1}{2}\\rho v|v|AC_D\n",
    "\\end{cases}\n",
    "$$\n",
    "\n",
    "$h$ is the altitude of the rocket\n",
    "\n",
    "$m_s = 50kg$ is the weight of the rocket shell\n",
    "\n",
    "$g = 9.81 \\frac{m}{s^2}$\n",
    "\n",
    "$\\rho = 1.091 \\frac{kg}{m^3}$ is the average air density (assumed constant throughout flight)\n",
    "\n",
    "$A = \\pi r^2$ is the maximum cross sectional area of the rocket, where $r = 0.5 m$\n",
    "\n",
    "$v_e = 350 \\frac{m}{s}$ is the exhaust speed\n",
    "\n",
    "$C_D = 0.21 $ is the drag coefficient\n",
    "\n",
    "$m_{po} = 150 kg$ at time $t = 0$ is the initial weight of the rocket propellant\n",
    "\n",
    "The mass of the remaining propellant is given by:\n",
    "\n",
    "$$m_p = m_{po} - \\int^t_0 \\dot{m}_p d\\tau$$\n",
    "\n",
    "where $\\dot{m}_p$ is the time-varying burn rate given by the following figure:\n",
    "\n",
    "Propellant Burn Rate\n",
    "\n",
    "![burn rate](./figures/burn_rate.png)\n",
    "\n",
    "that is,\n",
    "\n",
    "$$\n",
    "\\begin{equation}\n",
    "    \\dot{m}_p \\left( t \\right) =\n",
    "    \\begin{cases}\n",
    "        20 & \\quad \\text{if} \\quad t < 4 \\\\\n",
    "        0 & \\quad \\text{otherwise}\n",
    "    \\end{cases}\n",
    "\\end{equation}\n",
    "$$\n",
    "\n",
    "Using RK2 (midpoint) technique with a time-step size of $\\Delta t=0.05s$, implement a code (in this notebook) to calculate the altitude and velocity of the rocket from launch until crash down.\n",
    "\n",
    "_Hint:_ To compute the mass of the remaining propellant at a given time $t$, you can use the function `integrate.quad()` from the SciPy package.\n",
    "(Check the [documentation](https://docs.scipy.org/doc/scipy/reference/generated/scipy.integrate.quad.html) to understand how to use it.)"
   ]
  },
  {
   "cell_type": "markdown",
   "metadata": {
    "deletable": false,
    "editable": false,
    "nbgrader": {
     "checksum": "919712bed09b9128e1d56d13688aaded",
     "grade": false,
     "grade_id": "solution-section",
     "locked": true,
     "schema_version": 1,
     "solution": false
    }
   },
   "source": [
    "---\n",
    "\n",
    "## Implement your solution (40 points)\n",
    "\n",
    "Implement your solution in this section.\n",
    "You can use as many code cells as you want."
   ]
  },
  {
   "cell_type": "code",
   "execution_count": 240,
   "metadata": {
    "deletable": false,
    "nbgrader": {
     "checksum": "f74cf3f8a79bfbf9ff3f0aef81fbb7b2",
     "grade": false,
     "grade_id": "student-imports",
     "locked": false,
     "schema_version": 1,
     "solution": true
    }
   },
   "outputs": [],
   "source": [
    "# Import your libraries.\n",
    "import math\n",
    "import numpy\n",
    "from matplotlib import pyplot\n",
    "%matplotlib inline\n",
    "from scipy import integrate"
   ]
  },
  {
   "cell_type": "code",
   "execution_count": 241,
   "metadata": {
    "deletable": false,
    "nbgrader": {
     "checksum": "3057401cc27f6fd07e2e3ac5ea1a69ed",
     "grade": true,
     "grade_id": "student-solution",
     "locked": false,
     "points": 40,
     "schema_version": 1,
     "solution": true
    }
   },
   "outputs": [],
   "source": [
    "# YOUR CODE HERE\n",
    "#Assign value to varibles\n",
    "Ms=50.0\n",
    "g=9.81\n",
    "density=1.091\n",
    "A=numpy.pi*0.5**2\n",
    "Ve=350.0\n",
    "Cd=0.21\n",
    "Mp0=150.0\n"
   ]
  },
  {
   "cell_type": "code",
   "execution_count": 242,
   "metadata": {},
   "outputs": [],
   "source": [
    "#Initial Condition\n",
    "v0=0.0\n",
    "h0=0.0\n"
   ]
  },
  {
   "cell_type": "code",
   "execution_count": 243,
   "metadata": {},
   "outputs": [],
   "source": [
    "#Define time\n",
    "T=30.0\n",
    "dt=0.05\n",
    "N=int(T/dt)+1\n"
   ]
  },
  {
   "cell_type": "code",
   "execution_count": 244,
   "metadata": {},
   "outputs": [],
   "source": [
    "# Create array to store the solution at each time step.\n",
    "u = numpy.zeros((N, 2))\n",
    "\n"
   ]
  },
  {
   "cell_type": "code",
   "execution_count": 245,
   "metadata": {},
   "outputs": [],
   "source": [
    "# assign v0 to the correct index in u\n",
    "u[0,0]=v0\n",
    "\n",
    "# assign theta0 to the correct index in u\n",
    "u[0,1]=h0\n",
    "\n",
    "u_star=u"
   ]
  },
  {
   "cell_type": "code",
   "execution_count": 246,
   "metadata": {},
   "outputs": [],
   "source": [
    "#Define mp_dot\n",
    "def Mp_dot(t):\n",
    "    if t<4:\n",
    "        return 20\n",
    "    else:\n",
    "        return 0\n"
   ]
  },
  {
   "cell_type": "code",
   "execution_count": 247,
   "metadata": {},
   "outputs": [],
   "source": [
    "# iteration through RK method\n",
    "# the loop should loop through n=0, 1, 2, ..., N-2\n",
    "for n in range(0,N-1):\n",
    "\n",
    "#extract v at the n-th time point from the array u\n",
    "    h_n = u[n,0]\n",
    "\n",
    "#extract theta at the n-th time point from the array u\n",
    "    v_n = u[n,1]\n",
    "\n",
    "\n",
    "#f(u^n) in the right-hand-side\n",
    "    f_n = numpy.array([\n",
    "          v_n,\n",
    "          -g+Mp_dot(0.05*n)*Ve/(Ms+Mp0-integrate.quad(Mp_dot,0,0.05*n)[0]) \n",
    "          - 0.5*density*v_n*numpy.abs(v_n)*A*Cd/(Ms+Mp0-integrate.quad(Mp_dot,0,0.05*n)[0])\n",
    "                    ])\n",
    "\n",
    "# update values  by RK2 method: u_star = u + 0.5 * dt * f\n",
    "    u_star = u[n] + 0.5*dt * f_n\n",
    "\n",
    "    f_n_star = numpy.array([\n",
    "          u_star[1],\n",
    "          -g+Mp_dot(0.05*n)*Ve/(Ms+Mp0-integrate.quad(Mp_dot,0,0.05*n)[0]) \n",
    "          - 0.5*density*u_star[1]*numpy.abs(u_star[1])*A*Cd/(Ms+Mp0-integrate.quad(Mp_dot,0,0.05*n)[0])\n",
    "                           ])\n",
    "\n",
    "#u_new = u + dt * f(u_star, *args)  \n",
    "    u[n+1] = u[n] + dt * f_n_star\n",
    "    \n",
    "    \n",
    "    #if u[n,1] <= u[n-1,1] and u[n-1,1] >= u[n-2,1]:\n",
    "    #if u[n,0] <= u[n-1,0] and u[n-1,0] >= u[n-2,0]:  \n",
    "\n",
    "    #if u[n,0] <= 0 and u[n-1,0] >= 0:\n",
    "        #print(n)\n",
    "        #print(n*dt-dt)\n",
    "        #print(u[n-1,1])\n",
    "   \n",
    "    if u[n+1,0]<0:\n",
    "        break\n",
    "\n",
    "\n",
    "    \n",
    "    \n"
   ]
  },
  {
   "cell_type": "code",
   "execution_count": 248,
   "metadata": {},
   "outputs": [
    {
     "data": {
      "image/png": "[encoded data removed]",
      "text/plain": [
       "<Figure size 720x360 with 1 Axes>"
      ]
     },
     "metadata": {},
     "output_type": "display_data"
    },
    {
     "data": {
      "image/png": "[encoded data removed]",
      "text/plain": [
       "<Figure size 720x360 with 1 Axes>"
      ]
     },
     "metadata": {},
     "output_type": "display_data"
    }
   ],
   "source": [
    "%matplotlib inline\n",
    "# Plot the path of the glider.\n",
    "x = u[:, 0]\n",
    "y = u[:, 1]\n",
    "t=numpy.linspace(0.0,T,num=N)\n",
    "\n",
    "\n",
    "pyplot.figure(1,figsize=(10.0, 5.0))\n",
    "pyplot.title('Altitude of the time(flight time = {})'.format(T))\n",
    "pyplot.xlabel('t')\n",
    "pyplot.ylabel('h')\n",
    "pyplot.grid()\n",
    "pyplot.plot(t,x,color='C0', linestyle='-', linewidth=2);\n",
    "\n",
    "pyplot.figure(2,figsize=(10.0, 5.0))\n",
    "pyplot.title('velocity of the time (flight time = {})'.format(T))\n",
    "pyplot.xlabel('t')\n",
    "pyplot.ylabel('v')\n",
    "pyplot.grid()\n",
    "pyplot.plot(t,y,color='C1', linestyle='-', linewidth=2);\n"
   ]
  },
  {
   "cell_type": "code",
   "execution_count": 249,
   "metadata": {},
   "outputs": [
    {
     "name": "stdout",
     "output_type": "stream",
     "text": [
      "768.4214504778704\n",
      "126.29648438137988\n"
     ]
    }
   ],
   "source": [
    "print(max(x))\n",
    "print(max(y))\n",
    "\n"
   ]
  },
  {
   "cell_type": "markdown",
   "metadata": {
    "deletable": false,
    "editable": false,
    "nbgrader": {
     "checksum": "c580fda944f69c4762c23ad0d758f6ab",
     "grade": false,
     "grade_id": "assessment-section",
     "locked": true,
     "schema_version": 1,
     "solution": false
    }
   },
   "source": [
    "# ---\n",
    "\n",
    "## Assessment (60 points)\n",
    "\n",
    "Answer questions in this section.\n",
    "\n",
    "Do not try to delete or modify empty code cells that are already present.\n",
    "For each question, provide your answer in the cell **just above** the empty cell.\n",
    "(This empty cell contains hidden tests to assert the correctness of your answer and cannot be deleted.)\n",
    "Pay attention to the name of the variables we ask you to create to store computed values; if the name of the variable is misspelled, the test will fail."
   ]
  },
  {
   "cell_type": "code",
   "execution_count": 250,
   "metadata": {
    "deletable": false,
    "editable": false,
    "nbgrader": {
     "checksum": "5f26936e4e48f4269de0e6d911805788",
     "grade": false,
     "grade_id": "import-mooc",
     "locked": true,
     "schema_version": 1,
     "solution": false
    }
   },
   "outputs": [],
   "source": [
    "# Import module to check answers.\n",
    "import mooc"
   ]
  },
  {
   "cell_type": "markdown",
   "metadata": {
    "deletable": false,
    "editable": false,
    "nbgrader": {
     "checksum": "4c227bb282181859c9af94736e1f8392",
     "grade": false,
     "grade_id": "q1-question",
     "locked": true,
     "schema_version": 1,
     "solution": false
    }
   },
   "source": [
    "**Q1. (10 points)** Using Matplotlib, plot the history of the altitude and velocity of the rocket over time.\n",
    "\n",
    "Don't forget to include axis labels and a legend, if necessary, to your Matplotlib figure."
   ]
  },
  {
   "cell_type": "code",
   "execution_count": 251,
   "metadata": {
    "deletable": false,
    "nbgrader": {
     "checksum": "ce6a4b7aac4f840363492179353edeae",
     "grade": true,
     "grade_id": "q1-solution",
     "locked": false,
     "points": 10,
     "schema_version": 1,
     "solution": true
    }
   },
   "outputs": [
    {
     "data": {
      "image/png": "[encoded data removed]",
      "text/plain": [
       "<Figure size 720x360 with 1 Axes>"
      ]
     },
     "metadata": {},
     "output_type": "display_data"
    },
    {
     "data": {
      "image/png": "[encoded data removed]",
      "text/plain": [
       "<Figure size 720x360 with 1 Axes>"
      ]
     },
     "metadata": {},
     "output_type": "display_data"
    }
   ],
   "source": [
    "# YOUR CODE HERE\n",
    "%matplotlib inline\n",
    "# Plot the path of the glider.\n",
    "x = u[:, 0]\n",
    "y = u[:, 1]\n",
    "t=numpy.linspace(0.0,T,num=N)\n",
    "\n",
    "pyplot.figure(1,figsize=(10.0, 5.0))\n",
    "pyplot.title('Altitude of the time(flight time = {})'.format(T))\n",
    "pyplot.xlabel('t')\n",
    "pyplot.ylabel('h')\n",
    "pyplot.grid()\n",
    "pyplot.plot(t,x,color='C0', linestyle='-', linewidth=2);\n",
    "\n",
    "pyplot.figure(2,figsize=(10.0, 5.0))\n",
    "pyplot.title('velocity of the time (flight time = {})'.format(T))\n",
    "pyplot.xlabel('t')\n",
    "pyplot.ylabel('v')\n",
    "pyplot.grid()\n",
    "pyplot.plot(t,y,color='C1', linestyle='-', linewidth=2);"
   ]
  },
  {
   "cell_type": "markdown",
   "metadata": {
    "deletable": false,
    "editable": false,
    "nbgrader": {
     "checksum": "d28d2888d70dd7e951c1d2872e05d379",
     "grade": false,
     "grade_id": "q2-question",
     "locked": true,
     "schema_version": 1,
     "solution": false
    }
   },
   "source": [
    "**Q2. (5 points)** At time $t=15.2s$, what is the mass (in kg) of rocket propellant remaining in the rocket? \n",
    "\n",
    "_Instructions:_\n",
    "\n",
    "* Store the value of the remaining propellant using a variable called `m_p`.\n",
    "You can call the function `mooc.check('hw1_answer1', m_p)` to check you got the correct answer. The function will print `'Good job!'` if you got it right, `'Try again!'` otherwise."
   ]
  },
  {
   "cell_type": "code",
   "execution_count": 252,
   "metadata": {
    "deletable": false,
    "nbgrader": {
     "checksum": "66ae7559204e87909bc8a1b0b20830f2",
     "grade": false,
     "grade_id": "q2-solution",
     "locked": false,
     "schema_version": 1,
     "solution": true
    }
   },
   "outputs": [
    {
     "name": "stdout",
     "output_type": "stream",
     "text": [
      "[hw1_answer1] Good job!\n"
     ]
    }
   ],
   "source": [
    "# YOUR CODE HERE\n",
    "m_p=70\n",
    "mooc.check('hw1_answer1', m_p)\n"
   ]
  },
  {
   "cell_type": "code",
   "execution_count": null,
   "metadata": {
    "deletable": false,
    "editable": false,
    "nbgrader": {
     "checksum": "b42edac997070ea07e9928b198f89e78",
     "grade": true,
     "grade_id": "q2-check",
     "locked": true,
     "points": 5,
     "schema_version": 1,
     "solution": false
    }
   },
   "outputs": [],
   "source": []
  },
  {
   "cell_type": "markdown",
   "metadata": {
    "deletable": false,
    "editable": false,
    "nbgrader": {
     "checksum": "7c65efc6ebc0066442b41cd21fcead88",
     "grade": false,
     "grade_id": "q3-question",
     "locked": true,
     "schema_version": 1,
     "solution": false
    }
   },
   "source": [
    "**Q3. (15 points)** What is the maximum speed of the rocket in $\\frac{m}{s}$? At what time does this occur (in seconds)? What is the altitude at this time (in meters)?\n",
    "\n",
    "_Instructions:_\n",
    "\n",
    "* Store the maximum speed in the variable `vmax`, check your answer with `mooc.check('hw1_answer2', vmax)`.\n",
    "* Store the time in `t_vmax`, check your answer with `mooc.check('hw1_answer3', t_vmax)`.\n",
    "* Store the altitude in the variable `h_vmax`, check your answer with `mooc.check('hw1_answer4', h_vmax)`."
   ]
  },
  {
   "cell_type": "code",
   "execution_count": 253,
   "metadata": {
    "deletable": false,
    "nbgrader": {
     "checksum": "1b2aef20df1046ad7bd71f60dfa97eee",
     "grade": false,
     "grade_id": "q3-solution",
     "locked": false,
     "schema_version": 1,
     "solution": true
    }
   },
   "outputs": [
    {
     "name": "stdout",
     "output_type": "stream",
     "text": [
      "[hw1_answer2] Good job!\n",
      "[hw1_answer3] Good job!\n",
      "[hw1_answer4] Good job!\n"
     ]
    }
   ],
   "source": [
    "vmax=u[80,1]\n",
    "t_vmax=(81-1)*dt\n",
    "h_vmax=u[80,0]\n",
    "mooc.check('hw1_answer2', vmax)\n",
    "mooc.check('hw1_answer3', t_vmax)\n",
    "mooc.check('hw1_answer4', h_vmax)"
   ]
  },
  {
   "cell_type": "code",
   "execution_count": null,
   "metadata": {
    "deletable": false,
    "editable": false,
    "nbgrader": {
     "checksum": "6a29998592f92bf52fad246482592bc5",
     "grade": true,
     "grade_id": "q3-check",
     "locked": true,
     "points": 15,
     "schema_version": 1,
     "solution": false
    }
   },
   "outputs": [],
   "source": []
  },
  {
   "cell_type": "markdown",
   "metadata": {
    "deletable": false,
    "editable": false,
    "nbgrader": {
     "checksum": "762f819a5c9510fe5fee8624dd9bccc8",
     "grade": false,
     "grade_id": "q4-question",
     "locked": true,
     "schema_version": 1,
     "solution": false
    }
   },
   "source": [
    "**Q4. (10 points)** What is the rocket's maximum altitude during flight (in meters)? At what time (in seconds) does this occur?\n",
    "\n",
    "_Instructions:_\n",
    "\n",
    "* Store the maximum altitude in the variable `hmax`, check your answer with `mooc.check('hw1_answer5', hmax)`.\n",
    "* Store the time in the variable `t_hmax`, check your answer with `mooc.check('hw1_answer6', t_hmax)`."
   ]
  },
  {
   "cell_type": "code",
   "execution_count": 254,
   "metadata": {
    "deletable": false,
    "nbgrader": {
     "checksum": "f181b2b032e045ccd9ec19975761cbaa",
     "grade": false,
     "grade_id": "q4-solution",
     "locked": false,
     "schema_version": 1,
     "solution": true
    }
   },
   "outputs": [
    {
     "name": "stdout",
     "output_type": "stream",
     "text": [
      "[hw1_answer5] Good job!\n",
      "[hw1_answer6] Good job!\n"
     ]
    }
   ],
   "source": [
    "hmax=u[275,0]\n",
    "t_hmax=13.75\n",
    "mooc.check('hw1_answer5', hmax)\n",
    "mooc.check('hw1_answer6', t_hmax)\n"
   ]
  },
  {
   "cell_type": "code",
   "execution_count": null,
   "metadata": {
    "deletable": false,
    "editable": false,
    "nbgrader": {
     "checksum": "a6282395a124ea08dbdfab3361f8ff2d",
     "grade": true,
     "grade_id": "q4-check",
     "locked": true,
     "points": 10,
     "schema_version": 1,
     "solution": false
    }
   },
   "outputs": [],
   "source": []
  },
  {
   "cell_type": "markdown",
   "metadata": {
    "deletable": false,
    "editable": false,
    "nbgrader": {
     "checksum": "022df9f24d851db2cc63c8c5231b6b80",
     "grade": false,
     "grade_id": "q5-question",
     "locked": true,
     "schema_version": 1,
     "solution": false
    }
   },
   "source": [
    "**Q5. (20 points)** At what time (in seconds) does the rocket impact the ground? What is the velocity of the rocket (in $\\frac{m}{s}$) at time of impact?\n",
    "\n",
    "The time and velocity of the impact should be linearly interpolated at altitude $h = 0$.\n",
    "\n",
    "_Instructions:_\n",
    "\n",
    "* Store the time of impact in the variable `t_impact`, check your answer with `mooc.check('hw1_answer7', t_impact)`.\n",
    "* Store the impact velocity in the variable `v_impact`, check your answer with `mooc.check('hw1_answer8', v_impact)`."
   ]
  },
  {
   "cell_type": "code",
   "execution_count": 255,
   "metadata": {
    "deletable": false,
    "nbgrader": {
     "checksum": "564c9b327e828d50954081ab9c8a6b51",
     "grade": false,
     "grade_id": "q5-solution",
     "locked": false,
     "schema_version": 1,
     "solution": true
    }
   },
   "outputs": [
    {
     "name": "stdout",
     "output_type": "stream",
     "text": [
      "-94.59186170702856\n",
      "-1.8854072205296069\n",
      "2.8441996552303834\n",
      "-94.6693963726477\n",
      "-94.51432704140942\n",
      "[hw1_answer7] Good job!\n",
      "[hw1_answer8] Good job!\n"
     ]
    },
    {
     "data": {
      "text/plain": [
       "-94.60757964147331"
      ]
     },
     "execution_count": 255,
     "metadata": {},
     "output_type": "execute_result"
    }
   ],
   "source": [
    "\n",
    "t_impact=0.5*((549)*dt+(550)*dt)\n",
    "v_i=0.5*(u[550,1]+u[549,1])\n",
    "print(v_i)\n",
    "n=(u[550,0])\n",
    "p=(u[549,0])\n",
    "print(n)\n",
    "print(p)\n",
    "print(u[550,1])\n",
    "print(u[549,1])\n",
    "v_impact=u[549,1]*(1-(0-p)/(u[550,0]-u[549,0]))+u[550,1]*((0-p)/(u[550,0]-u[549,0]))\n",
    "mooc.check('hw1_answer7', t_impact)\n",
    "mooc.check('hw1_answer8', v_impact)\n",
    "v_impact"
   ]
  },
  {
   "cell_type": "code",
   "execution_count": null,
   "metadata": {
    "deletable": false,
    "editable": false,
    "nbgrader": {
     "checksum": "0246945493a1bfc08583ed9f7d69999e",
     "grade": true,
     "grade_id": "q5-check",
     "locked": true,
     "points": 20,
     "schema_version": 1,
     "solution": false
    }
   },
   "outputs": [],
   "source": []
  },
  {
   "cell_type": "markdown",
   "metadata": {
    "deletable": false,
    "editable": false,
    "nbgrader": {
     "checksum": "0a67937b8eb19f0e653536195b4517ca",
     "grade": false,
     "grade_id": "derivation",
     "locked": true,
     "schema_version": 1,
     "solution": false
    }
   },
   "source": [
    "---\n",
    "\n",
    "## Derivation of the rocket equations\n",
    "\n",
    "In case you are kind of confused about the rocket equations, here we show how to get to them. \n",
    "\n",
    "Newton's second law states that the acceleration of the vehicle times its mass is equal to all the forces acting on it. Therefore,\n",
    "\n",
    "\\begin{equation}\n",
    "(m_s + m_p)\\frac{d\\bf{v}}{dt}=\\sum {\\bf F}.\n",
    "\\end{equation}\n",
    "In the above formula we have assumed that the propellant inside the rocket and the rocket move at the same velocity (in other words, their relative velocity is negligible). \n",
    "\n",
    "Two of the external forces acting on the rocket are,\n",
    "\n",
    "\\begin{align}\n",
    "{\\bf F}_g&= (m_s+m_p)\\bf{g} \\quad (\\rm{Gravity}),\\\\\n",
    "{\\bf F}_d&= - \\frac{1}{2} \\rho_a \\mathbf{v} |\\mathbf{v}| A  C_D \\quad (\\rm{Drag}).\n",
    "\\end{align}\n",
    "\n",
    "We also need to consider the force resulting from the ejection of the propellant. During an interval $dt$, the engine of the rocket ejects downwards a mass of propellant given by $\\dot m_p dt$. Relative to the rocket, the speed of the ejected burning gas is assumed constant and equal to $v_e$ (the exhaust speed). The momentum variation induced on the exhaust gas by the engine during that interval is therefore, $d{\\bf p}_{gas} = \\dot m_p {\\bf v}_e dt$. Again using Newton's second law we conclude that the force applied by the rocket on the gas is,\n",
    "\n",
    "\\begin{align}\n",
    "{\\bf F}_{rocket\\rightarrow gas} = \\frac{d{\\bf p}_{gas}}{dt} = \\dot m_p {\\bf v}_e\n",
    "\\end{align}\n",
    "\n",
    "Using Newton's third law (|action| = |reaction|), the force exerted by the exhaust gas on the rocket is then,\n",
    "\n",
    "\\begin{align}\n",
    "{\\bf F}_{gas\\rightarrow rocket} = -{\\bf F}_{rocket\\rightarrow gas} = -\\dot m_p {\\bf v}_e\n",
    "\\end{align}\n",
    "\n",
    "If we collect all the forces acting on the rocket we finally have:\n",
    "\n",
    "\\begin{align}\n",
    "(m_s + m_p)\\frac{d\\bf{v}}{dt}=(m_s+m_p){\\bf g}- \\frac{1}{2} \\rho_a \\mathbf{v} |v| A  C_D -\\dot m_p {\\bf v}_e\n",
    "\\end{align}\n",
    "\n"
   ]
  }
 ],
 "metadata": {
  "kernelspec": {
   "display_name": "Python 3",
   "language": "python",
   "name": "python3"
  }
 },
 "nbformat": 4,
 "nbformat_minor": 1
}
